{
 "cells": [
  {
   "cell_type": "code",
   "execution_count": 1,
   "metadata": {},
   "outputs": [],
   "source": [
    "import pandas as pd\n",
    "import sqlite3 as sql\n",
    "import os\n",
    "import glob\n",
    "import numpy as np\n",
    "import shutil\n",
    "import os"
   ]
  },
  {
   "cell_type": "markdown",
   "metadata": {},
   "source": [
    "# Importing Claims JSON Files"
   ]
  },
  {
   "cell_type": "code",
   "execution_count": 2,
   "metadata": {},
   "outputs": [],
   "source": [
    "#file directory for JSON files (Claims Extracts)\n",
    "os.chdir(r\"C:\\Users\\PRM\\Documents\\Projects\\Python\\DataPipeline\\Data\\Claims_Extracts\")\n",
    "#extracting file names for each json file through a loop\n",
    "filenames = [i for i in glob.glob(\"*.json\")]\n",
    "#reading files into a dataframe as a list for each file\n",
    "claims_df = [pd.read_json(file, ) \n",
    "      for file in filenames]\n",
    "#extracting the date from the file name and setting it as a column called file_dt\n",
    "for i in range(0,365):\n",
    "    claims_df[i]['file_dt'] = filenames[i]\n",
    "    \n",
    "#note: it looks like the claim_dt is truncated and set to numerical. I was not sure if this date reflected the file date\n",
    "#so I added the file_dt column for tracking purposes"
   ]
  },
  {
   "cell_type": "code",
   "execution_count": 3,
   "metadata": {},
   "outputs": [],
   "source": [
    "#combining all claims files into one dataframe\n",
    "claims_full_df = pd.concat(claims_df)\n",
    "#resetting/removing the index\n",
    "claims_full_df = claims_full_df.reset_index(drop=True) \n",
    "#removing the .json from the file date\n",
    "claims_full_df['file_dt']= claims_full_df['file_dt'].str.replace('.json','',regex=False)\n",
    "#formatting data type\n",
    "claims_full_df['file_dt'] = pd.to_datetime(claims_full_df['file_dt'])"
   ]
  },
  {
   "cell_type": "markdown",
   "metadata": {},
   "source": [
    "# CSV Import"
   ]
  },
  {
   "cell_type": "code",
   "execution_count": 4,
   "metadata": {},
   "outputs": [],
   "source": [
    "#file directory for CSV\n",
    "os.chdir(r\"C:\\Users\\PRM\\Documents\\Projects\\Python\\DataPipeline\\Data\")\n",
    "#extracting file names for each CSV file through a loop\n",
    "csv_files = [i for i in glob.glob(\"*.csv\")]\n",
    "#reading files into a dataframe as a list for each file\n",
    "csv_df = [pd.read_csv(file, ) \n",
    "      for file in csv_files]\n",
    "\n",
    "#dropping the indexed column for both CSV's and distinguishing the dataframes into ccs_dim_df & dx_dim_df\n",
    "ccs_dim_df = csv_df[0].drop(columns='Unnamed: 0')\n",
    "dx_dim_df = csv_df[1].drop(columns='Unnamed: 0')\n",
    "\n",
    "#note about the ccs_dim template: one code could have multiple descriptions"
   ]
  },
  {
   "cell_type": "markdown",
   "metadata": {},
   "source": [
    "# Text Import"
   ]
  },
  {
   "cell_type": "code",
   "execution_count": 5,
   "metadata": {},
   "outputs": [],
   "source": [
    "#file directory for text files\n",
    "os.chdir(r\"C:\\Users\\PRM\\Documents\\Projects\\Python\\DataPipeline\\Data\")\n",
    "#extracting file names for each text file through a loop\n",
    "txt_files = [i for i in glob.glob(\"*.txt\")]\n",
    "#reading files into a dataframe as a list for each file\n",
    "txt_df = [pd.read_csv(file,sep='|' ) \n",
    "      for file in txt_files]\n",
    "\n",
    "#distinguishing the dataframes into patient_dim_df & product_dim_df\n",
    "patient_dim_df = txt_df[0]\n",
    "product_dim_df = txt_df[1]"
   ]
  },
  {
   "cell_type": "markdown",
   "metadata": {},
   "source": [
    "# Cleaning"
   ]
  },
  {
   "cell_type": "code",
   "execution_count": 6,
   "metadata": {},
   "outputs": [],
   "source": [
    "#left joining the claims data with the patient data into a master dataframe\n",
    "df = claims_full_df.merge(patient_dim_df, left_on='patient_id',right_on='pid', how='left')\n",
    "#left joining the master dataframe and CCS data\n",
    "df = df.merge(product_dim_df, left_on='member_id',right_on='MBR_IDN', how='left')\n",
    "#left joining the master dataframe and product data\n",
    "df = df.merge(ccs_dim_df, left_on='primary_icd10',right_on='ICD10_CD', how='left')\n",
    "#left joining the master dataframe and cx data\n",
    "df = df.merge(dx_dim_df, left_on='primary_icd10',right_on='ICD10_DIAG_CD', how='left')\n",
    "\n",
    "#dropping duplicates from the master dataframe and dropping columns\n",
    "m_df = df.drop_duplicates()\n",
    "m_df = df.drop(columns=['ICD10_CD','ICD10_DIAG_CD','primary_icd10','pid','member_id'])"
   ]
  },
  {
   "cell_type": "code",
   "execution_count": 7,
   "metadata": {},
   "outputs": [
    {
     "data": {
      "text/html": [
       "<div>\n",
       "<style scoped>\n",
       "    .dataframe tbody tr th:only-of-type {\n",
       "        vertical-align: middle;\n",
       "    }\n",
       "\n",
       "    .dataframe tbody tr th {\n",
       "        vertical-align: top;\n",
       "    }\n",
       "\n",
       "    .dataframe thead th {\n",
       "        text-align: right;\n",
       "    }\n",
       "</style>\n",
       "<table border=\"1\" class=\"dataframe\">\n",
       "  <thead>\n",
       "    <tr style=\"text-align: right;\">\n",
       "      <th></th>\n",
       "      <th>claim_id</th>\n",
       "      <th>claim_dt</th>\n",
       "      <th>patient_id</th>\n",
       "      <th>file_dt</th>\n",
       "      <th>gender</th>\n",
       "      <th>patient_dob</th>\n",
       "      <th>MBR_IDN</th>\n",
       "      <th>MBR_CTC_PDT_BAN_CD</th>\n",
       "      <th>EXCHANGE_IND</th>\n",
       "      <th>MBR_SEG_CD</th>\n",
       "      <th>CCS_DESCR</th>\n",
       "      <th>ICD10_DIAG_DE</th>\n",
       "      <th>RN</th>\n",
       "      <th>contract_count</th>\n",
       "    </tr>\n",
       "  </thead>\n",
       "  <tbody>\n",
       "    <tr>\n",
       "      <th>458469</th>\n",
       "      <td>407734</td>\n",
       "      <td>18871</td>\n",
       "      <td>A13273794</td>\n",
       "      <td>2021-09-01</td>\n",
       "      <td>f</td>\n",
       "      <td>1981-05-20</td>\n",
       "      <td>49737231</td>\n",
       "      <td>1</td>\n",
       "      <td>0</td>\n",
       "      <td>5512005</td>\n",
       "      <td>Diseases of the digestive system</td>\n",
       "      <td>Gastrointestinal hemorrhage, unspecified</td>\n",
       "      <td>1</td>\n",
       "      <td>2</td>\n",
       "    </tr>\n",
       "    <tr>\n",
       "      <th>458470</th>\n",
       "      <td>407734</td>\n",
       "      <td>18871</td>\n",
       "      <td>A13273794</td>\n",
       "      <td>2021-09-01</td>\n",
       "      <td>f</td>\n",
       "      <td>1981-05-20</td>\n",
       "      <td>49737231</td>\n",
       "      <td>3</td>\n",
       "      <td>1</td>\n",
       "      <td>8843001</td>\n",
       "      <td>Diseases of the digestive system</td>\n",
       "      <td>Gastrointestinal hemorrhage, unspecified</td>\n",
       "      <td>2</td>\n",
       "      <td>2</td>\n",
       "    </tr>\n",
       "  </tbody>\n",
       "</table>\n",
       "</div>"
      ],
      "text/plain": [
       "        claim_id  claim_dt patient_id    file_dt gender patient_dob   MBR_IDN  \\\n",
       "458469    407734     18871  A13273794 2021-09-01      f  1981-05-20  49737231   \n",
       "458470    407734     18871  A13273794 2021-09-01      f  1981-05-20  49737231   \n",
       "\n",
       "        MBR_CTC_PDT_BAN_CD  EXCHANGE_IND  MBR_SEG_CD  \\\n",
       "458469                   1             0     5512005   \n",
       "458470                   3             1     8843001   \n",
       "\n",
       "                               CCS_DESCR  \\\n",
       "458469  Diseases of the digestive system   \n",
       "458470  Diseases of the digestive system   \n",
       "\n",
       "                                   ICD10_DIAG_DE  RN  contract_count  \n",
       "458469  Gastrointestinal hemorrhage, unspecified   1               2  \n",
       "458470  Gastrointestinal hemorrhage, unspecified   2               2  "
      ]
     },
     "execution_count": 7,
     "metadata": {},
     "output_type": "execute_result"
    }
   ],
   "source": [
    "#creating a row number column to identify the smallest MBR_CTC_PDT_BAN_CD when there are \n",
    "#2 claim records (part of requirement)\n",
    "\n",
    "m_df['RN'] = m_df.sort_values(['claim_id','MBR_CTC_PDT_BAN_CD'], ascending=[True,True]) \\\n",
    "             .groupby(['claim_id']) \\\n",
    "             .cumcount() + 1\n",
    "             \n",
    "#creating a column that identifies rows with more than 1 claim         \n",
    "m_df['contract_count'] = m_df.groupby('claim_id')['claim_id'].transform('count')\n",
    "\n",
    "#this is an example - please see the last 2 columns\n",
    "m_df[m_df['claim_id']==407734]\n",
    "\n",
    "\n",
    "\n",
    "#excluding If a patient has more than 1 contract then the smallest value for \n",
    "# MBR_CTC_PDT_BAN_CD should be used and this should be indicated through a newly created \n",
    "# column as a binary flag (1 = more than one contract; 0 = one contract)\n",
    "#this excludes patients with more than 2 contracts prioritizing the smallest MBR_CTC_PDT_BAN_CD\t"
   ]
  },
  {
   "cell_type": "code",
   "execution_count": 8,
   "metadata": {},
   "outputs": [],
   "source": [
    "#m_df[m_df['contract_count']==2].groupby(['claim_id','CCS_DESCR']).size().reset_index().sort_values(by=0)"
   ]
  },
  {
   "cell_type": "code",
   "execution_count": 9,
   "metadata": {},
   "outputs": [],
   "source": [
    "#filtering for RN = 1 for us to have a claim per row. in other words, claim_id is the granularity\n",
    "m_df = m_df[m_df['RN']==1]"
   ]
  },
  {
   "cell_type": "code",
   "execution_count": 10,
   "metadata": {},
   "outputs": [
    {
     "data": {
      "text/html": [
       "<div>\n",
       "<style scoped>\n",
       "    .dataframe tbody tr th:only-of-type {\n",
       "        vertical-align: middle;\n",
       "    }\n",
       "\n",
       "    .dataframe tbody tr th {\n",
       "        vertical-align: top;\n",
       "    }\n",
       "\n",
       "    .dataframe thead th {\n",
       "        text-align: right;\n",
       "    }\n",
       "</style>\n",
       "<table border=\"1\" class=\"dataframe\">\n",
       "  <thead>\n",
       "    <tr style=\"text-align: right;\">\n",
       "      <th></th>\n",
       "      <th>claim_id</th>\n",
       "      <th>0</th>\n",
       "    </tr>\n",
       "  </thead>\n",
       "  <tbody>\n",
       "  </tbody>\n",
       "</table>\n",
       "</div>"
      ],
      "text/plain": [
       "Empty DataFrame\n",
       "Columns: [claim_id, 0]\n",
       "Index: []"
      ]
     },
     "execution_count": 10,
     "metadata": {},
     "output_type": "execute_result"
    }
   ],
   "source": [
    "#this is a test to show the claim_id is the granularity\n",
    "t = m_df.groupby(['claim_id']).size().reset_index().sort_values(by=0)\n",
    "t[t[0]>1]"
   ]
  },
  {
   "cell_type": "code",
   "execution_count": 11,
   "metadata": {},
   "outputs": [],
   "source": [
    "#updating the contract_count to show 1  for claims with more than 1 contract (this is part of the requirement)\n",
    "m_df['contract_count'] = np.where(m_df['contract_count'] == 2, 1, 0)\n",
    "#dropping the row number column as it is no longer needed\n",
    "m_df = m_df.drop(columns=['RN'])\n",
    "#datatype formatting\n",
    "m_df['patient_dob'] = pd.to_datetime(m_df['patient_dob'])"
   ]
  },
  {
   "cell_type": "code",
   "execution_count": 12,
   "metadata": {},
   "outputs": [
    {
     "data": {
      "text/html": [
       "<div>\n",
       "<style scoped>\n",
       "    .dataframe tbody tr th:only-of-type {\n",
       "        vertical-align: middle;\n",
       "    }\n",
       "\n",
       "    .dataframe tbody tr th {\n",
       "        vertical-align: top;\n",
       "    }\n",
       "\n",
       "    .dataframe thead th {\n",
       "        text-align: right;\n",
       "    }\n",
       "</style>\n",
       "<table border=\"1\" class=\"dataframe\">\n",
       "  <thead>\n",
       "    <tr style=\"text-align: right;\">\n",
       "      <th></th>\n",
       "      <th>claim_id</th>\n",
       "      <th>claim_dt</th>\n",
       "      <th>patient_id</th>\n",
       "      <th>file_dt</th>\n",
       "      <th>gender</th>\n",
       "      <th>patient_dob</th>\n",
       "      <th>MBR_IDN</th>\n",
       "      <th>MBR_CTC_PDT_BAN_CD</th>\n",
       "      <th>EXCHANGE_IND</th>\n",
       "      <th>MBR_SEG_CD</th>\n",
       "      <th>CCS_DESCR</th>\n",
       "      <th>ICD10_DIAG_DE</th>\n",
       "      <th>contract_count</th>\n",
       "    </tr>\n",
       "  </thead>\n",
       "  <tbody>\n",
       "    <tr>\n",
       "      <th>0</th>\n",
       "      <td>5652977</td>\n",
       "      <td>18628</td>\n",
       "      <td>B49130628</td>\n",
       "      <td>2021-01-01</td>\n",
       "      <td>m</td>\n",
       "      <td>1988-05-10</td>\n",
       "      <td>826031940</td>\n",
       "      <td>2</td>\n",
       "      <td>0</td>\n",
       "      <td>5512009</td>\n",
       "      <td>Symptoms; signs; and ill-defined conditions an...</td>\n",
       "      <td>Flexural eczema</td>\n",
       "      <td>0</td>\n",
       "    </tr>\n",
       "    <tr>\n",
       "      <th>1</th>\n",
       "      <td>1336619</td>\n",
       "      <td>18628</td>\n",
       "      <td>A43805793</td>\n",
       "      <td>2021-01-01</td>\n",
       "      <td>f</td>\n",
       "      <td>1976-05-03</td>\n",
       "      <td>39750834</td>\n",
       "      <td>1</td>\n",
       "      <td>0</td>\n",
       "      <td>5512004</td>\n",
       "      <td>Diseases of the skin and subcutaneous tissue</td>\n",
       "      <td>Other specified follicular disorders</td>\n",
       "      <td>0</td>\n",
       "    </tr>\n",
       "    <tr>\n",
       "      <th>2</th>\n",
       "      <td>8144284</td>\n",
       "      <td>18628</td>\n",
       "      <td>A55835152</td>\n",
       "      <td>2021-01-01</td>\n",
       "      <td>m</td>\n",
       "      <td>1975-04-29</td>\n",
       "      <td>25153855</td>\n",
       "      <td>1</td>\n",
       "      <td>0</td>\n",
       "      <td>5512003</td>\n",
       "      <td>Endocrine; nutritional; and metabolic diseases...</td>\n",
       "      <td>Oth diabetes mellitus with diabetic chronic ki...</td>\n",
       "      <td>0</td>\n",
       "    </tr>\n",
       "    <tr>\n",
       "      <th>3</th>\n",
       "      <td>1798579</td>\n",
       "      <td>18628</td>\n",
       "      <td>B48711425</td>\n",
       "      <td>2021-01-01</td>\n",
       "      <td>m</td>\n",
       "      <td>1980-06-22</td>\n",
       "      <td>524117840</td>\n",
       "      <td>2</td>\n",
       "      <td>0</td>\n",
       "      <td>5512006</td>\n",
       "      <td>Diseases of the musculoskeletal system and con...</td>\n",
       "      <td>Other specified soft tissue disorders</td>\n",
       "      <td>0</td>\n",
       "    </tr>\n",
       "    <tr>\n",
       "      <th>4</th>\n",
       "      <td>1862995</td>\n",
       "      <td>18628</td>\n",
       "      <td>A25577626</td>\n",
       "      <td>2021-01-01</td>\n",
       "      <td>f</td>\n",
       "      <td>1991-06-22</td>\n",
       "      <td>62677552</td>\n",
       "      <td>1</td>\n",
       "      <td>0</td>\n",
       "      <td>5512007</td>\n",
       "      <td>Infectious and parasitic diseases</td>\n",
       "      <td>Encntr screen for infections w sexl mode of tr...</td>\n",
       "      <td>0</td>\n",
       "    </tr>\n",
       "  </tbody>\n",
       "</table>\n",
       "</div>"
      ],
      "text/plain": [
       "   claim_id  claim_dt patient_id    file_dt gender patient_dob    MBR_IDN  \\\n",
       "0   5652977     18628  B49130628 2021-01-01      m  1988-05-10  826031940   \n",
       "1   1336619     18628  A43805793 2021-01-01      f  1976-05-03   39750834   \n",
       "2   8144284     18628  A55835152 2021-01-01      m  1975-04-29   25153855   \n",
       "3   1798579     18628  B48711425 2021-01-01      m  1980-06-22  524117840   \n",
       "4   1862995     18628  A25577626 2021-01-01      f  1991-06-22   62677552   \n",
       "\n",
       "   MBR_CTC_PDT_BAN_CD  EXCHANGE_IND  MBR_SEG_CD  \\\n",
       "0                   2             0     5512009   \n",
       "1                   1             0     5512004   \n",
       "2                   1             0     5512003   \n",
       "3                   2             0     5512006   \n",
       "4                   1             0     5512007   \n",
       "\n",
       "                                           CCS_DESCR  \\\n",
       "0  Symptoms; signs; and ill-defined conditions an...   \n",
       "1       Diseases of the skin and subcutaneous tissue   \n",
       "2  Endocrine; nutritional; and metabolic diseases...   \n",
       "3  Diseases of the musculoskeletal system and con...   \n",
       "4                  Infectious and parasitic diseases   \n",
       "\n",
       "                                       ICD10_DIAG_DE  contract_count  \n",
       "0                                    Flexural eczema               0  \n",
       "1               Other specified follicular disorders               0  \n",
       "2  Oth diabetes mellitus with diabetic chronic ki...               0  \n",
       "3              Other specified soft tissue disorders               0  \n",
       "4  Encntr screen for infections w sexl mode of tr...               0  "
      ]
     },
     "execution_count": 12,
     "metadata": {},
     "output_type": "execute_result"
    }
   ],
   "source": [
    "#dataframe sample\n",
    "m_df.head()"
   ]
  },
  {
   "cell_type": "markdown",
   "metadata": {},
   "source": [
    "# Transfer Claims Files from Inbound (Source) to Archived (Target) folder"
   ]
  },
  {
   "cell_type": "code",
   "execution_count": 13,
   "metadata": {},
   "outputs": [],
   "source": [
    "#since this is designed for reproducability, this is to move the claims data into an archived folder\n",
    "\n",
    "#source and destination folder\n",
    "source_dir = r'C:\\Users\\PRM\\Documents\\Projects\\Python\\DataPipeline\\Data\\Claims_Extracts'\n",
    "target_dir = r'C:\\Users\\PRM\\Documents\\Projects\\Python\\DataPipeline\\Archive'\n",
    "    \n",
    "file_names = os.listdir(source_dir)\n",
    "#transfers the files over to the archived folder\n",
    "for file_name in file_names:\n",
    "    shutil.move(os.path.join(source_dir, file_name), target_dir)"
   ]
  },
  {
   "cell_type": "markdown",
   "metadata": {},
   "source": [
    "# Data Analysis"
   ]
  },
  {
   "cell_type": "code",
   "execution_count": 14,
   "metadata": {},
   "outputs": [
    {
     "name": "stdout",
     "output_type": "stream",
     "text": [
      "9\n",
      "1\n",
      "60\n",
      "81.0\n"
     ]
    }
   ],
   "source": [
    "#this is to identify the column lengths for our SQL import. Last 2 fields will be a varchar(100)\n",
    "print(m_df['patient_id'].str.len().max())\n",
    "print(m_df['gender'].str.len().max())\n",
    "print(m_df['ICD10_DIAG_DE'].str.len().max())\n",
    "print(m_df['CCS_DESCR'].str.len().max())"
   ]
  },
  {
   "cell_type": "code",
   "execution_count": 15,
   "metadata": {},
   "outputs": [
    {
     "data": {
      "text/plain": [
       "claim_id                  0\n",
       "claim_dt                  0\n",
       "patient_id                0\n",
       "file_dt                   0\n",
       "gender                    0\n",
       "patient_dob               0\n",
       "MBR_IDN                   0\n",
       "MBR_CTC_PDT_BAN_CD        0\n",
       "EXCHANGE_IND              0\n",
       "MBR_SEG_CD                0\n",
       "CCS_DESCR             12214\n",
       "ICD10_DIAG_DE             0\n",
       "contract_count            0\n",
       "dtype: int64"
      ]
     },
     "execution_count": 15,
     "metadata": {},
     "output_type": "execute_result"
    }
   ],
   "source": [
    "#identifying nulls\n",
    "m_df.isnull().sum(axis = 0)"
   ]
  },
  {
   "cell_type": "code",
   "execution_count": 16,
   "metadata": {},
   "outputs": [
    {
     "data": {
      "text/plain": [
       "claim_id                       int64\n",
       "claim_dt                       int64\n",
       "patient_id                    object\n",
       "file_dt               datetime64[ns]\n",
       "gender                        object\n",
       "patient_dob           datetime64[ns]\n",
       "MBR_IDN                        int64\n",
       "MBR_CTC_PDT_BAN_CD             int64\n",
       "EXCHANGE_IND                   int64\n",
       "MBR_SEG_CD                     int64\n",
       "CCS_DESCR                     object\n",
       "ICD10_DIAG_DE                 object\n",
       "contract_count                 int32\n",
       "dtype: object"
      ]
     },
     "execution_count": 16,
     "metadata": {},
     "output_type": "execute_result"
    }
   ],
   "source": [
    "#identifying data types\n",
    "m_df.dtypes"
   ]
  },
  {
   "cell_type": "code",
   "execution_count": 17,
   "metadata": {},
   "outputs": [
    {
     "data": {
      "text/plain": [
       "(688115, 13)"
      ]
     },
     "execution_count": 17,
     "metadata": {},
     "output_type": "execute_result"
    }
   ],
   "source": [
    "#row and column count\n",
    "m_df.shape"
   ]
  },
  {
   "cell_type": "markdown",
   "metadata": {},
   "source": [
    "# Data Load"
   ]
  },
  {
   "cell_type": "code",
   "execution_count": 39,
   "metadata": {},
   "outputs": [],
   "source": [
    "#connecting to the claims database\n",
    "conn = sql.connect(r'C:\\Users\\PRM\\Documents\\Projects\\Python\\DataPipeline\\CLAIMS.db', uri = True)\n",
    "cur = conn.cursor()"
   ]
  },
  {
   "cell_type": "code",
   "execution_count": 40,
   "metadata": {},
   "outputs": [],
   "source": [
    "#cur.execute('drop table if exists CLAIMS')"
   ]
  },
  {
   "cell_type": "code",
   "execution_count": 41,
   "metadata": {},
   "outputs": [
    {
     "data": {
      "text/plain": [
       "<sqlite3.Cursor at 0x33e47020>"
      ]
     },
     "execution_count": 41,
     "metadata": {},
     "output_type": "execute_result"
    }
   ],
   "source": [
    "#creating the table 'CLAIMS' and labeling fields and datatypes\n",
    "\n",
    "cur.execute(\n",
    "  '''\n",
    " CREATE TABLE if not exists CLAIMS\n",
    "  (\n",
    "    claim_id bigint primary key,\n",
    "    claim_dt VARCHAR(50),\n",
    "    patient_id VARCHAR(100),\n",
    "    file_dt date,\n",
    "    gender VARCHAR(10),\n",
    "    patient_dob date,\n",
    "    MBR_IDN int,\n",
    "    MBR_CTC_PDT_BAN_CD int,\n",
    "    EXCHANGE_IND int,\n",
    "    MBR_SEG_CD int,\n",
    "    CCS_DESCR VARCHAR(100),\n",
    "    ICD10_DIAG_DE VARCHAR(100),\n",
    "    contract_count int\n",
    "    )\n",
    "  '''\n",
    "  )"
   ]
  },
  {
   "cell_type": "code",
   "execution_count": 42,
   "metadata": {},
   "outputs": [],
   "source": [
    "#dataframe m_df will feed the table\n",
    "m_df.to_sql('CLAIMS', conn, if_exists = 'append', index = False)"
   ]
  },
  {
   "cell_type": "code",
   "execution_count": 43,
   "metadata": {},
   "outputs": [
    {
     "name": "stdout",
     "output_type": "stream",
     "text": [
      "[(5652977, '18628', 'B49130628', '2021-01-01 00:00:00', 'm', '1988-05-10 00:00:00', 826031940, 2, 0, 5512009, 'Symptoms; signs; and ill-defined conditions and factors influencing health status', 'Flexural eczema', 0), (1336619, '18628', 'A43805793', '2021-01-01 00:00:00', 'f', '1976-05-03 00:00:00', 39750834, 1, 0, 5512004, 'Diseases of the skin and subcutaneous tissue', 'Other specified follicular disorders', 0), (8144284, '18628', 'A55835152', '2021-01-01 00:00:00', 'm', '1975-04-29 00:00:00', 25153855, 1, 0, 5512003, 'Endocrine; nutritional; and metabolic diseases and immunity disorders', 'Oth diabetes mellitus with diabetic chronic kidney disease', 0), (1798579, '18628', 'B48711425', '2021-01-01 00:00:00', 'm', '1980-06-22 00:00:00', 524117840, 2, 0, 5512006, 'Diseases of the musculoskeletal system and connective tissue', 'Other specified soft tissue disorders', 0), (1862995, '18628', 'A25577626', '2021-01-01 00:00:00', 'f', '1991-06-22 00:00:00', 62677552, 1, 0, 5512007, 'Infectious and parasitic diseases', 'Encntr screen for infections w sexl mode of transmiss', 0)]\n"
     ]
    }
   ],
   "source": [
    "#executes a simple top 5 query\n",
    "cur.execute(\"SELECT * FROM CLAIMS limit 5\")\n",
    "print(cur. fetchall())"
   ]
  },
  {
   "cell_type": "code",
   "execution_count": 44,
   "metadata": {},
   "outputs": [
    {
     "name": "stdout",
     "output_type": "stream",
     "text": [
      "[(688115,)]\n"
     ]
    }
   ],
   "source": [
    "#row count for testing\n",
    "cur.execute(\"SELECT count(*) FROM CLAIMS\")\n",
    "print(cur. fetchall())"
   ]
  },
  {
   "cell_type": "code",
   "execution_count": 45,
   "metadata": {},
   "outputs": [],
   "source": [
    "conn.commit()\n",
    "conn.close()"
   ]
  },
  {
   "cell_type": "code",
   "execution_count": null,
   "metadata": {},
   "outputs": [],
   "source": []
  }
 ],
 "metadata": {
  "interpreter": {
   "hash": "e013453ff7d0027c553dc96f369b93a6bd1cffa8c3c554ac034c17e7ffdd89f2"
  },
  "kernelspec": {
   "display_name": "Python 3",
   "language": "python",
   "name": "python3"
  },
  "language_info": {
   "codemirror_mode": {
    "name": "ipython",
    "version": 3
   },
   "file_extension": ".py",
   "mimetype": "text/x-python",
   "name": "python",
   "nbconvert_exporter": "python",
   "pygments_lexer": "ipython3",
   "version": "3.7.3"
  }
 },
 "nbformat": 4,
 "nbformat_minor": 2
}
